{
 "cells": [
  {
   "cell_type": "markdown",
   "metadata": {},
   "source": [
    "# Validation of Gridpoint and Spectral LAM templates: data encoding\n",
    "\n",
    "The objective is here to encode and decode the same data using a modified version of ECCODES and WGRIB2."
   ]
  },
  {
   "cell_type": "markdown",
   "metadata": {},
   "source": [
    "## environment\n",
    "\n",
    "based on Eccodes 2.6.0 (branch feature/MeteoFrance_lamOMM) and a modified version of wgrib2 2.0.5"
   ]
  },
  {
   "cell_type": "code",
   "execution_count": 1,
   "metadata": {
    "collapsed": true
   },
   "outputs": [],
   "source": [
    "export TESTHOME=/home/yann.genin/lamOMM\n",
    "export WGRIB2_PREFIX=$TESTHOME/wgrib2/grib2/wgrib2/\n",
    "export GRIB_API_CMAKE_PREFIX=$TESTHOME/eccodes_build\n",
    "export GRIB_API_PREFIX=$GRIB_API_CMAKE_PREFIX\n",
    "export GRIB_API_SOURCE_PREFIX=$TESTHOME/eccodes-2.6.0-Source"
   ]
  },
  {
   "cell_type": "code",
   "execution_count": 2,
   "metadata": {
    "collapsed": true
   },
   "outputs": [],
   "source": [
    "export WGRIB2=$WGRIB2_PREFIX/wgrib2\n",
    "export GRIB_DUMP=$GRIB_API_PREFIX/bin/grib_dump\n",
    "export GRIB_DEFINITION_PATH=$GRIB_API_SOURCE_PREFIX/definitions\n",
    "export GRIB_SAMPLES_PATH=$GRIB_API_SOURCE_PREFIX/samples\n",
    "export LD_LIBRARY_PATH=$GRIB_API_PREFIX/lib\n",
    "\n",
    "export ECCODES_DEBUG=0"
   ]
  },
  {
   "cell_type": "markdown",
   "metadata": {},
   "source": [
    "## Grid point data\n",
    "\n",
    "compilation of program using Eccodes"
   ]
  },
  {
   "cell_type": "code",
   "execution_count": 3,
   "metadata": {},
   "outputs": [
    {
     "name": "stdout",
     "output_type": "stream",
     "text": [
      "#include <stdlib.h>\n",
      "#include <math.h>\n",
      "#include <stdio.h>\n",
      "#include <string.h>\n",
      "\n",
      "#include \"grib_api.h\"\n",
      "\n",
      "/*\n",
      " * Test encoding of LAM gridpoint fields\n",
      " * v1.0  philippe.marguinaud@meteo.fr, 02/2016\n",
      " */\n",
      "\n",
      "\n",
      "int main (int argc, char * argv[])\n",
      "{\n",
      "  grib_handle * h;\n",
      "  const char * f_text = argv[1];\n",
      "  const char * f_g1   = argv[2];\n",
      "  const char * f_g2   = argv[3];\n",
      "  double * values = NULL;\n",
      "  FILE * fp;\n",
      "  size_t size, nlon, nlat, len;\n",
      "  const void * buffer = NULL;\n",
      "  int err = 0;\n",
      "  int i;\n",
      "\n",
      "  if (argc != 4)\n",
      "    {\n",
      "      printf (\"%s: text grib1 grib2\\n\", argv[0]);\n",
      "      return 0;\n",
      "    }\n",
      "\n",
      "  fp = fopen (f_g1, \"r\");\n",
      "  GRIB_CHECK ((h = grib_handle_new_from_file (0, fp, &err)) == NULL, 0);\n",
      "  fclose (fp);\n",
      "\n",
      "  fp = fopen (f_text, \"r\");\n",
      "  fscanf (fp, \"%ld %ld\\n\", &nlon, &nlat);\n",
      "  len = nlon * nlat;\n",
      "  values = (double *)malloc (sizeof (double) * len);\n",
      "  for (i = 0; i < len; i++)\n",
      "    fscanf (fp, \"%lf\\n\", &values[i]);\n",
      "  fclose (fp);\n",
      "\n",
      "  GRIB_CHECK (grib_set_double_array (h, \"values\", values, len), 0);\n",
      "  \n",
      "  fp = fopen (f_g2, \"w\");\n",
      "  GRIB_CHECK (grib_get_message (h, &buffer, &size), 0);\n",
      "  fwrite (buffer, 1, size, fp);\n",
      "  fclose (fp);\n",
      "  \n",
      "  GRIB_CHECK (grib_handle_delete (h), 0);\n",
      "\n",
      "  return 0;\n",
      "}\n"
     ]
    }
   ],
   "source": [
    "cat lam_gp.c"
   ]
  },
  {
   "cell_type": "code",
   "execution_count": 4,
   "metadata": {
    "collapsed": true
   },
   "outputs": [],
   "source": [
    "cc -g -o lam_gp.x lam_gp.c -I$GRIB_API_PREFIX/include -L$GRIB_API_PREFIX/lib -leccodes -Wl,-rpath,$GRIB_API_PREFIX/lib"
   ]
  },
  {
   "cell_type": "markdown",
   "metadata": {},
   "source": [
    "### Gridded data : fill data files with values"
   ]
  },
  {
   "cell_type": "code",
   "execution_count": 5,
   "metadata": {
    "collapsed": true
   },
   "outputs": [],
   "source": [
    "cp lam_gp.data lam_gp.txt\n",
    "cp lam_gp.template  lam_gp.grib"
   ]
  },
  {
   "cell_type": "markdown",
   "metadata": {},
   "source": [
    "Encoding data using Eccodes"
   ]
  },
  {
   "cell_type": "code",
   "execution_count": 6,
   "metadata": {
    "collapsed": true
   },
   "outputs": [],
   "source": [
    "./lam_gp.x lam_gp.txt lam_gp.grib lam_gp_encode=GRIB_API.grib"
   ]
  },
  {
   "cell_type": "markdown",
   "metadata": {
    "collapsed": true
   },
   "source": [
    "Encoding same data using Wgrib2"
   ]
  },
  {
   "cell_type": "code",
   "execution_count": 7,
   "metadata": {},
   "outputs": [
    {
     "name": "stdout",
     "output_type": "stream",
     "text": [
      "1:0:d=2009052800:TMP:0 hybrid level:3600 sec fcst:\n"
     ]
    }
   ],
   "source": [
    "$WGRIB2  -import_text lam_gp.txt lam_gp.grib -set_scaling 0 -12  -grib_out lam_gp_encode=WGRIB2.grib"
   ]
  },
  {
   "cell_type": "code",
   "execution_count": 8,
   "metadata": {},
   "outputs": [
    {
     "name": "stdout",
     "output_type": "stream",
     "text": [
      "-rw-rw-r-- 1 yann.genin yann.genin 9116 28 nov.  14:00 'lam_gp_encode=GRIB_API.grib'\n",
      "-rw-rw-r-- 1 yann.genin yann.genin 9116 28 nov.  14:00 'lam_gp_encode=WGRIB2.grib'\n"
     ]
    }
   ],
   "source": [
    "ls -l lam_gp_encode=GRIB_API.grib lam_gp_encode=WGRIB2.grib"
   ]
  },
  {
   "cell_type": "markdown",
   "metadata": {},
   "source": [
    "### Gridded data: comparison of encoding metadata (use of simple packing)"
   ]
  },
  {
   "cell_type": "code",
   "execution_count": 9,
   "metadata": {},
   "outputs": [
    {
     "name": "stdout",
     "output_type": "stream",
     "text": [
      "======================   SECTION_5 ( length=21, padding=0 )    ======================\n",
      "1-4       section5Length = 21\n",
      "5         numberOfSection = 5\n",
      "6-9       numberOfValues = 4096\n",
      "10-11     dataRepresentationTemplateNumber = 0 [Grid point data - simple packing (grib2/tables/4/5.0.table) ]\n",
      "12-15     referenceValue = 276.794\n",
      "16-17     binaryScaleFactor = -12\n",
      "18-19     decimalScaleFactor = 0\n",
      "20        bitsPerValue = 16\n",
      "21        typeOfOriginalFieldValues = 0 [Floating point (grib2/tables/4/5.1.table) ]\n"
     ]
    }
   ],
   "source": [
    "$GRIB_DUMP -O lam_gp_encode=GRIB_API.grib |awk '/SECTION_5/{f=1}/SECTION_6/{f=0}f'"
   ]
  },
  {
   "cell_type": "code",
   "execution_count": 10,
   "metadata": {},
   "outputs": [
    {
     "name": "stdout",
     "output_type": "stream",
     "text": [
      "1:0:Sec5 len=21 #defined data points=4096 Data Repr. Template=5.0:packing=grid point data - simple packing,s val=(276.794+i*2^-12)*10^0, i=0..65535 (#bits=16)\n"
     ]
    }
   ],
   "source": [
    "$WGRIB2 -Sec5 -packing -v lam_gp_encode=GRIB_API.grib "
   ]
  },
  {
   "cell_type": "code",
   "execution_count": 11,
   "metadata": {},
   "outputs": [
    {
     "name": "stdout",
     "output_type": "stream",
     "text": [
      "======================   SECTION_5 ( length=21, padding=0 )    ======================\n",
      "1-4       section5Length = 21\n",
      "5         numberOfSection = 5\n",
      "6-9       numberOfValues = 4096\n",
      "10-11     dataRepresentationTemplateNumber = 0 [Grid point data - simple packing (grib2/tables/4/5.0.table) ]\n",
      "12-15     referenceValue = 276.794\n",
      "16-17     binaryScaleFactor = -12\n",
      "18-19     decimalScaleFactor = 0\n",
      "20        bitsPerValue = 16\n",
      "21        typeOfOriginalFieldValues = 0 [Floating point (grib2/tables/4/5.1.table) ]\n"
     ]
    }
   ],
   "source": [
    "$GRIB_DUMP -O lam_gp_encode=WGRIB2.grib |awk '/SECTION_5/{f=1}/SECTION_6/{f=0}f'"
   ]
  },
  {
   "cell_type": "code",
   "execution_count": 12,
   "metadata": {},
   "outputs": [
    {
     "name": "stdout",
     "output_type": "stream",
     "text": [
      "1:0:Sec5 len=21 #defined data points=4096 Data Repr. Template=5.0:packing=grid point data - simple packing,s val=(276.794+i*2^-12)*10^0, i=0..65535 (#bits=16)\n"
     ]
    }
   ],
   "source": [
    "$WGRIB2 -Sec5 -packing -v lam_gp_encode=WGRIB2.grib "
   ]
  },
  {
   "cell_type": "markdown",
   "metadata": {},
   "source": [
    "### Gridded data: dump values"
   ]
  },
  {
   "cell_type": "code",
   "execution_count": 13,
   "metadata": {
    "collapsed": true
   },
   "outputs": [],
   "source": [
    "$GRIB_DUMP -d lam_gp_encode=GRIB_API.grib | \\\n",
    "  perl -e ' local $/ = undef;  $x = <>; my ($length, $values) = ($x =~ m/\\bvalues\\((\\d+)\\)\\s+=\\s+{\\s*(.*?)\\s*}/goms); \\\n",
    "            print \"$length 1\\n\"; my @values = split (m/\\s*,\\s*/o, $values); print join (\"\\n\", @values, \"\") ' \\\n",
    "  > lam_gp_encode=GRIB_API_dump=GRIB_API.txt\n",
    "$GRIB_DUMP -d lam_gp_encode=WGRIB2.grib | \\\n",
    "  perl -e ' local $/ = undef;  $x = <>; my ($length, $values) = ($x =~ m/\\bvalues\\((\\d+)\\)\\s+=\\s+{\\s*(.*?)\\s*}/goms); \\\n",
    "            print \"$length 1\\n\"; my @values = split (m/\\s*,\\s*/o, $values); print join (\"\\n\", @values, \"\") ' \\\n",
    "  > lam_gp_encode=WGRIB2_dump=GRIB_API.txt"
   ]
  },
  {
   "cell_type": "code",
   "execution_count": 14,
   "metadata": {},
   "outputs": [
    {
     "name": "stdout",
     "output_type": "stream",
     "text": [
      "1:0:vt=2009052801:0 hybrid level:3600 sec fcst:TMP Temperature [K]:\n",
      "    ndata=4096:undef=0:mean=279.719:min=276.794:max=288\n",
      "    grid_template=23:\n",
      "\tpolar stereographic grid with LAM extension (U=[53,53],C=[8,8]): (64 x 64) input (null) output WE:SN res -1\n",
      "\tSouth pole lat1 67.937201 lon1 25.158021 latD 0.000000 lonV 0.000000 dx 2500.000000 m dy 2500.000000 m\n",
      "\n",
      "1:0:vt=2009052801:0 hybrid level:3600 sec fcst:TMP Temperature [K]:\n",
      "    ndata=4096:undef=0:mean=279.719:min=276.794:max=288\n",
      "    grid_template=23:\n",
      "\tpolar stereographic grid with LAM extension (U=[53,53],C=[8,8]): (64 x 64) input (null) output WE:SN res -1\n",
      "\tSouth pole lat1 67.937201 lon1 25.158021 latD 0.000000 lonV 0.000000 dx 2500.000000 m dy 2500.000000 m\n",
      "\n"
     ]
    }
   ],
   "source": [
    "$WGRIB2  -text lam_gp_encode=GRIB_API_dump=WGRIB2.txt -V -d 1 lam_gp_encode=GRIB_API.grib\n",
    "$WGRIB2  -text lam_gp_encode=WGRIB2_dump=WGRIB2.txt -V -d 1 lam_gp_encode=WGRIB2.grib"
   ]
  },
  {
   "cell_type": "markdown",
   "metadata": {},
   "source": [
    "### Gridded data: compare values encoded with same software, decoding with different software"
   ]
  },
  {
   "cell_type": "code",
   "execution_count": 15,
   "metadata": {},
   "outputs": [
    {
     "name": "stdout",
     "output_type": "stream",
     "text": [
      "average difference 0 maximum difference 0 number of values 4096\n",
      "average difference 0 maximum difference 0 number of values 4096\n"
     ]
    }
   ],
   "source": [
    "./compareValuesInTextFile.sh lam_gp_encode=GRIB_API_dump=GRIB_API.txt lam_gp_encode=GRIB_API_dump=WGRIB2.txt\n",
    "./compareValuesInTextFile.sh lam_gp_encode=WGRIB2_dump=GRIB_API.txt lam_gp_encode=WGRIB2_dump=WGRIB2.txt\n"
   ]
  },
  {
   "cell_type": "markdown",
   "metadata": {},
   "source": [
    "### Gridded data: compare values encoded with different software, decoding with same software"
   ]
  },
  {
   "cell_type": "code",
   "execution_count": 16,
   "metadata": {},
   "outputs": [
    {
     "name": "stdout",
     "output_type": "stream",
     "text": [
      "average difference 0 maximum difference 0 number of values 4096\n",
      "average difference 0 maximum difference 0 number of values 4096\n"
     ]
    }
   ],
   "source": [
    "./compareValuesInTextFile.sh lam_gp_encode=GRIB_API_dump=GRIB_API.txt lam_gp_encode=WGRIB2_dump=GRIB_API.txt\n",
    "./compareValuesInTextFile.sh lam_gp_encode=GRIB_API_dump=WGRIB2.txt lam_gp_encode=WGRIB2_dump=WGRIB2.txt"
   ]
  },
  {
   "cell_type": "markdown",
   "metadata": {
    "collapsed": true
   },
   "source": [
    "## Spectral bi-fourier data\n",
    "\n",
    "compilation of program using Eccodes"
   ]
  },
  {
   "cell_type": "code",
   "execution_count": 17,
   "metadata": {},
   "outputs": [
    {
     "name": "stdout",
     "output_type": "stream",
     "text": [
      "#include <stdlib.h>\n",
      "#include <math.h>\n",
      "#include <stdio.h>\n",
      "#include <string.h>\n",
      "\n",
      "#include \"grib_api.h\"\n",
      "\n",
      "/*\n",
      " * Test encoding of LAM spectral fields\n",
      " * v1.0  philippe.marguinaud@meteo.fr, 02/2016\n",
      " * v1.01 yann.genin 11/2018 */\n",
      "\n",
      "\n",
      "int main (int argc, char * argv[])\n",
      "{\n",
      "  grib_handle * h;\n",
      "  const char * f_text = argv[1];\n",
      "  const char * f_g1   = argv[2];\n",
      "  const char * f_g2   = argv[3];\n",
      "  double * values = NULL;\n",
      "  FILE * fp;\n",
      "  size_t size, len, dum;\n",
      "  const void * buffer = NULL;\n",
      "  int err = 0;\n",
      "  int i;\n",
      "\n",
      "  if (argc != 4)\n",
      "    {\n",
      "      printf (\"%s: text grib1 grib2\\n\", argv[0]);\n",
      "      return 0;\n",
      "    }\n",
      "\n",
      "  fp = fopen (f_g1, \"r\");\n",
      "  GRIB_CHECK ((h = grib_handle_new_from_file (0, fp, &err)) == NULL, 0);\n",
      "  fclose (fp);\n",
      "\n",
      "  fp = fopen (f_text, \"r\");\n",
      "  fscanf (fp, \"%d %d\\n\", &len, &dum);\n",
      "  values = (double *)malloc (sizeof (double) * len);\n",
      "  for (i = 0; i < len; i++)\n",
      "    fscanf (fp, \"%lf\\n\", &values[i]);\n",
      "  fclose (fp);\n",
      "\n",
      "  GRIB_CHECK (grib_set_long (h, \"bitsPerValue\", 16), 0);\n",
      "\n",
      "  GRIB_CHECK (grib_set_double_array (h, \"values\", values, len), 0);\n",
      "\n",
      "  fp = fopen (f_g2, \"w\");\n",
      "  GRIB_CHECK (grib_get_message (h, &buffer, &size), 0);\n",
      "  fwrite (buffer, 1, size, fp);\n",
      "  fclose (fp);\n",
      "  \n",
      "  GRIB_CHECK (grib_handle_delete (h), 0);\n",
      "\n",
      "  return 0;\n",
      "}\n"
     ]
    }
   ],
   "source": [
    "cat lam_bf.c"
   ]
  },
  {
   "cell_type": "code",
   "execution_count": 18,
   "metadata": {
    "collapsed": true
   },
   "outputs": [],
   "source": [
    "cc -g -o lam_bf.x lam_bf.c -I$GRIB_API_PREFIX/include -L$GRIB_API_PREFIX/lib -leccodes -Wl,-rpath,$GRIB_API_PREFIX/lib"
   ]
  },
  {
   "cell_type": "markdown",
   "metadata": {},
   "source": [
    "### Spectral data: fill data files with values"
   ]
  },
  {
   "cell_type": "code",
   "execution_count": 19,
   "metadata": {
    "collapsed": true
   },
   "outputs": [],
   "source": [
    "cp lam_bf.data.gz lam_bf.txt.gz\n",
    "gunzip lam_bf.txt.gz\n",
    "cp lam_bf.template  lam_bf.grib"
   ]
  },
  {
   "cell_type": "markdown",
   "metadata": {},
   "source": [
    "Encoding data using Eccodes"
   ]
  },
  {
   "cell_type": "code",
   "execution_count": 20,
   "metadata": {
    "collapsed": true
   },
   "outputs": [],
   "source": [
    "./lam_bf.x lam_bf.txt lam_bf.grib lam_bf_encode=GRIB_API.grib"
   ]
  },
  {
   "cell_type": "markdown",
   "metadata": {},
   "source": [
    "Encoding same data using Wgrib2"
   ]
  },
  {
   "cell_type": "code",
   "execution_count": 21,
   "metadata": {},
   "outputs": [
    {
     "name": "stdout",
     "output_type": "stream",
     "text": [
      "1:0dec_scale=-1 binscale=-13 refval=-3.864928 s=8192.000000 d=0.100000\n",
      ":d=2015050200:TMP:hybrid pressure level:42 hour fcst:\n"
     ]
    }
   ],
   "source": [
    "$WGRIB2  -set_grib_type bifourier -import_text lam_bf.txt lam_bf.grib -set_scaling -1 -13 -grib_out lam_bf_encode=WGRIB2.grib"
   ]
  },
  {
   "cell_type": "markdown",
   "metadata": {},
   "source": [
    "### Spectral data: comparison of encoding metadata "
   ]
  },
  {
   "cell_type": "code",
   "execution_count": 22,
   "metadata": {},
   "outputs": [
    {
     "name": "stdout",
     "output_type": "stream",
     "text": [
      "-rw-rw-r-- 1 yann.genin yann.genin 3641173 28 nov.  14:00 'lam_bf_encode=GRIB_API.grib'\n",
      "-rw-rw-r-- 1 yann.genin yann.genin 3641173 28 nov.  14:00 'lam_bf_encode=WGRIB2.grib'\n"
     ]
    }
   ],
   "source": [
    "ls -l lam_bf_encode=GRIB_API.grib lam_bf_encode=WGRIB2.grib"
   ]
  },
  {
   "cell_type": "code",
   "execution_count": 23,
   "metadata": {},
   "outputs": [
    {
     "name": "stdout",
     "output_type": "stream",
     "text": [
      "======================   SECTION_5 ( length=31, padding=0 )    ======================\n",
      "1-4       section5Length = 31\n",
      "5         numberOfSection = 5\n",
      "6-9       numberOfValues = 1735448\n",
      "10-11     dataRepresentationTemplateNumber = 53 [Spherical harmonics bifourier data - complex packing (grib2/tables/4/5.0.table) ]\n",
      "12-15     referenceValue = -3.86493\n",
      "16-17     binaryScaleFactor = -13\n",
      "18-19     decimalScaleFactor = -1\n",
      "20        bitsPerValue = 16\n",
      "21        biFourierSubTruncationType = 77 [Unknown code table entry () ]\n",
      "22        biFourierDoNotPackAxes = 1\n",
      "23-26     laplacianScalingFactor = 930404\n",
      "27-28     biFourierResolutionSubSetParameterN = 106\n",
      "29-30     biFourierResolutionSubSetParameterM = 106\n",
      "31        unpackedSubsetPrecision = 2 [IEEE 64-bit  (I=8 in Section 7)  (grib2/tables/4/5.7.table) ]\n"
     ]
    }
   ],
   "source": [
    "$GRIB_DUMP -O lam_bf_encode=GRIB_API.grib |awk '/SECTION_5/{f=1}/SECTION_6/{f=0}f'"
   ]
  },
  {
   "cell_type": "code",
   "execution_count": 24,
   "metadata": {},
   "outputs": [
    {
     "name": "stdout",
     "output_type": "stream",
     "text": [
      "1:0:Sec5 len=31 #defined data points=1735448 Data Repr. Template=5.53:packing=spectral bifourier data - complex packing,_ val=(-3.86493+i*2^-13)*10^1, i=0..65535 (#bits=16) P-Laplacian scaling factor*10^-6=930404 Ns=106 Ms=106 SubTruncationType=77 doNotPackAxes=1 code_table_5.7=2\n"
     ]
    }
   ],
   "source": [
    "$WGRIB2 -Sec5 -packing -v lam_bf_encode=GRIB_API.grib "
   ]
  },
  {
   "cell_type": "code",
   "execution_count": 25,
   "metadata": {},
   "outputs": [
    {
     "name": "stdout",
     "output_type": "stream",
     "text": [
      "======================   SECTION_5 ( length=31, padding=0 )    ======================\n",
      "1-4       section5Length = 31\n",
      "5         numberOfSection = 5\n",
      "6-9       numberOfValues = 1735448\n",
      "10-11     dataRepresentationTemplateNumber = 53 [Spherical harmonics bifourier data - complex packing (grib2/tables/4/5.0.table) ]\n",
      "12-15     referenceValue = -3.86493\n",
      "16-17     binaryScaleFactor = -13\n",
      "18-19     decimalScaleFactor = -1\n",
      "20        bitsPerValue = 16\n",
      "21        biFourierSubTruncationType = 77 [Unknown code table entry () ]\n",
      "22        biFourierDoNotPackAxes = 1\n",
      "23-26     laplacianScalingFactor = 930403\n",
      "27-28     biFourierResolutionSubSetParameterN = 106\n",
      "29-30     biFourierResolutionSubSetParameterM = 106\n",
      "31        unpackedSubsetPrecision = 2 [IEEE 64-bit  (I=8 in Section 7)  (grib2/tables/4/5.7.table) ]\n"
     ]
    }
   ],
   "source": [
    "$GRIB_DUMP -O lam_bf_encode=WGRIB2.grib |awk '/SECTION_5/{f=1}/SECTION_6/{f=0}f'"
   ]
  },
  {
   "cell_type": "code",
   "execution_count": 26,
   "metadata": {},
   "outputs": [
    {
     "name": "stdout",
     "output_type": "stream",
     "text": [
      "1:0:Sec5 len=31 #defined data points=1735448 Data Repr. Template=5.53:packing=spectral bifourier data - complex packing,_ val=(-3.86493+i*2^-13)*10^1, i=0..65535 (#bits=16) P-Laplacian scaling factor*10^-6=930403 Ns=106 Ms=106 SubTruncationType=77 doNotPackAxes=1 code_table_5.7=2\n"
     ]
    }
   ],
   "source": [
    "$WGRIB2 -Sec5 -packing -v lam_bf_encode=WGRIB2.grib "
   ]
  },
  {
   "cell_type": "markdown",
   "metadata": {},
   "source": [
    "### Spectral data: dump values"
   ]
  },
  {
   "cell_type": "code",
   "execution_count": 27,
   "metadata": {
    "collapsed": true
   },
   "outputs": [],
   "source": [
    "$GRIB_DUMP -d lam_bf_encode=GRIB_API.grib | \\\n",
    "  perl -e ' local $/ = undef;  $x = <>; my ($length, $values) = ($x =~ m/\\bvalues\\((\\d+)\\)\\s+=\\s+{\\s*(.*?)\\s*}/goms); \\\n",
    "            print \"$length 1\\n\"; my @values = split (m/\\s*,\\s*/o, $values); print join (\"\\n\", @values, \"\") ' \\\n",
    "  > lam_bf_encode=GRIB_API_dump=GRIB_API.txt\n",
    "$GRIB_DUMP -d lam_bf_encode=WGRIB2.grib | \\\n",
    "  perl -e ' local $/ = undef;  $x = <>; my ($length, $values) = ($x =~ m/\\bvalues\\((\\d+)\\)\\s+=\\s+{\\s*(.*?)\\s*}/goms); \\\n",
    "            print \"$length 1\\n\"; my @values = split (m/\\s*,\\s*/o, $values); print join (\"\\n\", @values, \"\") ' \\\n",
    "  > lam_bf_encode=WGRIB2_dump=GRIB_API.txt\n"
   ]
  },
  {
   "cell_type": "code",
   "execution_count": 28,
   "metadata": {},
   "outputs": [
    {
     "name": "stdout",
     "output_type": "stream",
     "text": [
      "1:0:vt=2015050318:hybrid pressure level:42 hour fcst:TMP Temperature [K]:\n",
      "    ndata=1735448:undef=0:mean=0.000159003:min=-2.46804:max=280.596\n",
      "    grid_template=63:Spectral Lambert 46700000 N=767 M=719, code_table_3.6=99 code_table_3.25=99\n",
      "\tSubdomains definition lx=1870700000 lux=1856400000 lcx=19500000 ly=1995500000 luy=1981200000 lcy=19500000\n",
      "\tSouth Pole latin1 46700000 latin2 46700000 latSP 0 lonSP 0\n",
      "\n",
      "1:0:vt=2015050318:hybrid pressure level:42 hour fcst:TMP Temperature [K]:\n",
      "    ndata=1735448:undef=0:mean=0.000159:min=-2.46804:max=280.596\n",
      "    grid_template=63:Spectral Lambert 46700000 N=767 M=719, code_table_3.6=99 code_table_3.25=99\n",
      "\tSubdomains definition lx=1870700000 lux=1856400000 lcx=19500000 ly=1995500000 luy=1981200000 lcy=19500000\n",
      "\tSouth Pole latin1 46700000 latin2 46700000 latSP 0 lonSP 0\n",
      "\n"
     ]
    }
   ],
   "source": [
    "$WGRIB2  -text lam_bf_encode=GRIB_API_dump=WGRIB2.txt -V -d 1 lam_bf_encode=GRIB_API.grib\n",
    "$WGRIB2  -text lam_bf_encode=WGRIB2_dump=WGRIB2.txt -V -d 1 lam_bf_encode=WGRIB2.grib"
   ]
  },
  {
   "cell_type": "markdown",
   "metadata": {},
   "source": [
    "### Spectral data: compare values encoded with same software, decoding with different software"
   ]
  },
  {
   "cell_type": "code",
   "execution_count": 29,
   "metadata": {},
   "outputs": [
    {
     "name": "stdout",
     "output_type": "stream",
     "text": [
      "average difference 1.6055e-12 maximum difference 1e-08 number of values 1735448\n",
      "average difference 1.67888e-12 maximum difference 1e-08 number of values 1735448\n"
     ]
    }
   ],
   "source": [
    "./compareValuesInTextFile.sh lam_bf_encode=GRIB_API_dump=GRIB_API.txt lam_bf_encode=GRIB_API_dump=WGRIB2.txt\n",
    "./compareValuesInTextFile.sh lam_bf_encode=WGRIB2_dump=GRIB_API.txt lam_bf_encode=WGRIB2_dump=WGRIB2.txt"
   ]
  },
  {
   "cell_type": "markdown",
   "metadata": {},
   "source": [
    "### Spectral data: compare values encoded with different software, decoding with same software"
   ]
  },
  {
   "cell_type": "code",
   "execution_count": 30,
   "metadata": {},
   "outputs": [
    {
     "name": "stdout",
     "output_type": "stream",
     "text": [
      "average difference 4.50397e-09 maximum difference 3.9e-07 number of values 1735448\n",
      "average difference 4.50399e-09 maximum difference 3.9e-07 number of values 1735448\n"
     ]
    }
   ],
   "source": [
    "./compareValuesInTextFile.sh lam_bf_encode=GRIB_API_dump=GRIB_API.txt lam_bf_encode=WGRIB2_dump=GRIB_API.txt\n",
    "./compareValuesInTextFile.sh lam_bf_encode=GRIB_API_dump=WGRIB2.txt lam_bf_encode=WGRIB2_dump=WGRIB2.txt"
   ]
  },
  {
   "cell_type": "markdown",
   "metadata": {},
   "source": [
    "## Cleanup"
   ]
  },
  {
   "cell_type": "code",
   "execution_count": 31,
   "metadata": {
    "collapsed": true
   },
   "outputs": [],
   "source": [
    "rm -f *.txt *.grib lam_*.x"
   ]
  }
 ],
 "metadata": {
  "kernelspec": {
   "display_name": "Bash",
   "language": "bash",
   "name": "bash"
  },
  "language_info": {
   "codemirror_mode": "shell",
   "file_extension": ".sh",
   "mimetype": "text/x-sh",
   "name": "bash"
  }
 },
 "nbformat": 4,
 "nbformat_minor": 2
}
