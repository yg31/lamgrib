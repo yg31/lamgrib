{
 "cells": [
  {
   "cell_type": "markdown",
   "metadata": {},
   "source": [
    "# Validation of Gridpoint and Spectral LAM templates: data encoding\n",
    "\n",
    "The objective is here to encode and decode the same data using a modified version of ECCODES and WGRIB2."
   ]
  },
  {
   "cell_type": "markdown",
   "metadata": {},
   "source": [
    "## environment\n",
    "\n",
    "based on Eccodes 2.6.0 (branch feature/MeteoFrance_lamOMM) and a modified version of wgrib2 2.0.5"
   ]
  },
  {
   "cell_type": "code",
   "execution_count": 1,
   "metadata": {
    "collapsed": true
   },
   "outputs": [],
   "source": [
    "export TESTHOME=/home/yann.genin/lamOMM\n",
    "export WGRIB2_PREFIX=$TESTHOME/wgrib2/grib2/wgrib2/\n",
    "export GRIB_API_CMAKE_PREFIX=$TESTHOME/eccodes_build\n",
    "export GRIB_API_PREFIX=$GRIB_API_CMAKE_PREFIX\n",
    "export GRIB_API_SOURCE_PREFIX=$TESTHOME/eccodes-2.6.0-Source"
   ]
  },
  {
   "cell_type": "code",
   "execution_count": 2,
   "metadata": {
    "collapsed": true
   },
   "outputs": [],
   "source": [
    "export WGRIB2=$WGRIB2_PREFIX/wgrib2\n",
    "export GRIB_DUMP=$GRIB_API_PREFIX/bin/grib_dump\n",
    "export GRIB_DEFINITION_PATH=$GRIB_API_SOURCE_PREFIX/definitions\n",
    "export GRIB_SAMPLES_PATH=$GRIB_API_SOURCE_PREFIX/samples\n",
    "export LD_LIBRARY_PATH=$GRIB_API_PREFIX/lib\n",
    "\n",
    "export ECCODES_DEBUG=0"
   ]
  },
  {
   "cell_type": "markdown",
   "metadata": {},
   "source": [
    "## Grid point data\n",
    "\n",
    "compilation of program using Eccodes"
   ]
  },
  {
   "cell_type": "code",
   "execution_count": 3,
   "metadata": {},
   "outputs": [
    {
     "name": "stdout",
     "output_type": "stream",
     "text": [
      "#include <stdlib.h>\n",
      "#include <math.h>\n",
      "#include <stdio.h>\n",
      "#include <string.h>\n",
      "\n",
      "#include \"grib_api.h\"\n",
      "\n",
      "/*\n",
      " * Test encoding of grid-point LAM fields\n",
      " * Test FA conversion to grib_api\n",
      " * v1.0 philippe.marguinaud 02/2016\n",
      " * v1.01 yann.genin 11/2018\n",
      " */\n",
      "\n",
      "\n",
      "\n",
      "int main (int argc, char * argv[])\n",
      "{\n",
      "  grib_handle * h;\n",
      "  size_t len;\n",
      "  const char * grids[] = {\"lambert_lam\", \"mercator_lam\", \"polar_stereographic_lam\"};\n",
      "  int igrid;\n",
      "  const char * f_text = argv[1];\n",
      "  double * values = NULL;\n",
      "  FILE * fp;\n",
      "  size_t size, nlon, nlat;\n",
      "  int i;\n",
      "\n",
      "\n",
      "  fp = fopen (f_text, \"r\");\n",
      "  fscanf (fp, \"%ld %ld\\n\", &nlon, &nlat);\n",
      "  len = nlon * nlat;\n",
      "  values = (double *)malloc (sizeof (double) * len);\n",
      "  for (i = 0; i < len; i++)\n",
      "    fscanf (fp, \"%lf\\n\", &values[i]);\n",
      "  fclose (fp);\n",
      "\n",
      "\n",
      "\n",
      "  for (igrid = 0; igrid < 3; igrid++)\n",
      "    {\n",
      "       GRIB_CHECK (((h = grib_handle_new_from_samples (NULL, \"reduced_gg_ml_grib2\")) == NULL), 0);\n",
      "       len = strlen (\"lambert_lam\");\n",
      "       GRIB_CHECK (grib_set_string (h, \"gridType\", \"lambert_lam\", &len), 0);\n",
      "       GRIB_CHECK (grib_set_long (h, \"centre\", 85), 0);\n",
      "       len = strlen (grids[igrid]);\n",
      "       GRIB_CHECK (grib_set_string (h, \"gridType\", grids[igrid], &len), 0);\n",
      "       GRIB_CHECK (grib_set_long (h, \"Nx\", 64), 0);\n",
      "       GRIB_CHECK (grib_set_long (h, \"Ny\", 64), 0);\n",
      "       GRIB_CHECK (grib_set_long (h, \"iScansNegatively\", 0), 0);\n",
      "       GRIB_CHECK (grib_set_long (h, \"jScansPositively\", 1), 0);\n",
      "       GRIB_CHECK (grib_set_long (h, \"jPointsAreConsecutive\", 0), 0);\n",
      "       GRIB_CHECK (grib_set_long (h, \"Nux\", 53), 0);\n",
      "       GRIB_CHECK (grib_set_long (h, \"Nuy\", 53), 0);\n",
      "       GRIB_CHECK (grib_set_long (h, \"Ncx\", 8), 0);\n",
      "       GRIB_CHECK (grib_set_long (h, \"Ncy\", 8), 0);\n",
      "\n",
      "       if (igrid == 0) //lambert_lam\n",
      "         {\n",
      "           GRIB_CHECK (grib_set_double (h, \"DxInMetres\", 2500.00000000000), 0);\n",
      "           GRIB_CHECK (grib_set_double (h, \"DyInMetres\", 2500.00000000000), 0);\n",
      "           GRIB_CHECK (grib_set_double (h, \"latitudeOfFirstGridPointInDegrees\", 66.7684949529709), 0);\n",
      "           GRIB_CHECK (grib_set_double (h, \"longitudeOfFirstGridPointInDegrees\", 25.1580207144963), 0);\n",
      "           GRIB_CHECK (grib_set_double (h, \"latitudeOfSouthernPoleInDegrees\", 0.000000000000000E+000), 0);\n",
      "           GRIB_CHECK (grib_set_double (h, \"longitudeOfSouthernPoleInDegrees\", 0.000000000000000E+000), 0);\n",
      "           GRIB_CHECK (grib_set_double (h, \"LaDInDegrees\", 67.3600000000000), 0);\n",
      "           GRIB_CHECK (grib_set_double (h, \"LoVInDegrees\", 26.6400000000000), 0);\n",
      "           GRIB_CHECK (grib_set_double (h, \"Latin1InDegrees\", 67.3600000000000), 0);\n",
      "           GRIB_CHECK (grib_set_double (h, \"Latin2InDegrees\", 67.3600000000000), 0);\n",
      "           GRIB_CHECK (grib_set_long (h, \"projectionCentreFlag\", 0), 0);\n",
      "           GRIB_CHECK (grib_set_long (h, \"uvRelativeToGrid\", 1), 0);\n",
      "         }\n",
      "       else if (igrid == 1) //mercator_lam\n",
      "         {\n",
      "           GRIB_CHECK (grib_set_double (h, \"latitudeOfFirstGridPointInDegrees\", 67.9372009520603), 0);\n",
      "           GRIB_CHECK (grib_set_double (h, \"longitudeOfFirstGridPointInDegrees\", 25.1580207144963), 0);\n",
      "           GRIB_CHECK (grib_set_double (h, \"LaDInDegrees\", 0.), 0);\n",
      "           GRIB_CHECK (grib_set_double (h, \"latitudeOfLastGridPointInDegrees\", 72.9372009520603), 0);\n",
      "           GRIB_CHECK (grib_set_double (h, \"longitudeOfLastGridPointInDegrees\", 29.1580207144963), 0);\n",
      "           GRIB_CHECK (grib_set_double (h, \"orientationOfTheGridInDegrees\", 0.), 0);\n",
      "           GRIB_CHECK (grib_set_long (h, \"uvRelativeToGrid\", 1), 0);\n",
      "         }\n",
      "       else if (igrid == 2) //polar_stereographic_lam\n",
      "         {\n",
      "           GRIB_CHECK (grib_set_double (h, \"DxInMetres\", 2500.00000000000), 0);\n",
      "           GRIB_CHECK (grib_set_double (h, \"DyInMetres\", 2500.00000000000), 0);\n",
      "           GRIB_CHECK (grib_set_double (h, \"latitudeOfFirstGridPointInDegrees\", 67.9372009520603), 0);\n",
      "           GRIB_CHECK (grib_set_double (h, \"longitudeOfFirstGridPointInDegrees\", 25.1580207144963), 0);\n",
      "           GRIB_CHECK (grib_set_double (h, \"LaDInDegrees\", 0.), 0);\n",
      "           GRIB_CHECK (grib_set_double (h, \"orientationOfTheGridInDegrees\", 0.), 0);\n",
      "         }\n",
      "     \n",
      "\n",
      "       GRIB_CHECK (grib_set_long (h, \"NV\", 0), 0);\n",
      "       GRIB_CHECK (grib_set_long (h, \"year\", 2009), 0);\n",
      "       GRIB_CHECK (grib_set_long (h, \"month\", 5), 0);\n",
      "       GRIB_CHECK (grib_set_long (h, \"day\", 28), 0);\n",
      "       GRIB_CHECK (grib_set_long (h, \"hour\", 0), 0);\n",
      "       GRIB_CHECK (grib_set_long (h, \"minute\", 0), 0);\n",
      "       GRIB_CHECK (grib_set_long (h, \"second\", 0), 0);\n",
      "       len = strlen (\"s\");\n",
      "       GRIB_CHECK (grib_set_string (h, \"indicatorOfUnitOfTimeRange\", \"s\", &len), 0);\n",
      "       len = strlen (\"s\");\n",
      "       GRIB_CHECK (grib_set_string (h, \"stepUnits\", \"s\", &len), 0);\n",
      "       GRIB_CHECK (grib_set_long (h, \"endStep\", 3600), 0);\n",
      "       GRIB_CHECK (grib_set_long (h, \"bitsPerValue\", 16), 0);\n",
      "       len = strlen (\"grid_simple\");\n",
      "       GRIB_CHECK (grib_set_string (h, \"packingType\", \"grid_simple\", &len), 0);\n",
      "       GRIB_CHECK (grib_set_long (h, \"numberOfDataPoints\", 4096), 0);\n",
      "       len = 4096;\n",
      "       GRIB_CHECK (grib_set_double_array (h, \"values\", values, len), 0);\n",
      "\n",
      "       if (1)\n",
      "         {\n",
      "           char f[128];\n",
      "           FILE * fp;\n",
      "           size_t size;\n",
      "           void * buffer;\n",
      "\t   sprintf (f, \"lam_gp_%s.grib\", grids[igrid]);\n",
      "           fp = fopen (f, \"w\");\n",
      "           GRIB_CHECK (grib_get_message (h, (const void**)&buffer, &size), 0);\n",
      "           fwrite (buffer, 1, size, fp);\n",
      "           fclose (fp);\n",
      "         }\n",
      "\n",
      "       GRIB_CHECK (grib_handle_delete (h), 0);\n",
      "    }\n",
      "  return 0;\n",
      "}\n"
     ]
    }
   ],
   "source": [
    "cat lam_gp.c"
   ]
  },
  {
   "cell_type": "code",
   "execution_count": 4,
   "metadata": {
    "collapsed": true
   },
   "outputs": [],
   "source": [
    "cc -g -o lam_gp.x lam_gp.c -I$GRIB_API_PREFIX/include -L$GRIB_API_PREFIX/lib -leccodes -Wl,-rpath,$GRIB_API_PREFIX/lib"
   ]
  },
  {
   "cell_type": "markdown",
   "metadata": {},
   "source": [
    "### Grid point data: metadata encoding using Eccodes\n",
    "Wgrib2 encoding of metadata was not implemented.\n"
   ]
  },
  {
   "cell_type": "code",
   "execution_count": 5,
   "metadata": {},
   "outputs": [],
   "source": [
    "./lam_gp.x lam_gp.data"
   ]
  },
  {
   "cell_type": "markdown",
   "metadata": {},
   "source": [
    "### Grid point data: Comparison of section 3 between Eccodes and Wgrib2 for grid point templates\n",
    "#### Lambert"
   ]
  },
  {
   "cell_type": "code",
   "execution_count": 6,
   "metadata": {},
   "outputs": [
    {
     "name": "stdout",
     "output_type": "stream",
     "text": [
      "======================   SECTION_3 ( length=97, padding=0 )    ======================\n",
      "1-4       section3Length = 97\n",
      "5         numberOfSection = 3\n",
      "6         sourceOfGridDefinition = 0 [Specified in Code table 3.1 (grib2/tables/4/3.0.table) ]\n",
      "7-10      numberOfDataPoints = 4096\n",
      "11        numberOfOctectsForNumberOfPoints = 0\n",
      "12        interpretationOfNumberOfPoints = 0 [There is no appended list (grib2/tables/4/3.11.table) ]\n",
      "13-14     gridDefinitionTemplateNumber = 33 [Unknown code table entry (grib2/tables/4/3.1.table) ]\n",
      "15        shapeOfTheEarth = 6 [Earth assumed spherical with radius of 6,371,229.0 m (grib2/tables/4/3.2.table) ]\n",
      "16        scaleFactorOfRadiusOfSphericalEarth = MISSING\n",
      "17-20     scaledValueOfRadiusOfSphericalEarth = MISSING\n",
      "21        scaleFactorOfEarthMajorAxis = MISSING\n",
      "22-25     scaledValueOfEarthMajorAxis = MISSING\n",
      "26        scaleFactorOfEarthMinorAxis = MISSING\n",
      "27-30     scaledValueOfEarthMinorAxis = MISSING\n",
      "31-34     Nx = 64\n",
      "35-38     Ny = 64\n",
      "39-42     latitudeOfFirstGridPoint = 66768495\n",
      "43-46     longitudeOfFirstGridPoint = 25158021\n",
      "47        resolutionAndComponentFlags = 8 [00001000]\n",
      "48-51     LaD = 67360000\n",
      "52-55     LoV = 26640000\n",
      "56-59     Dx = 2500000\n",
      "60-63     Dy = 2500000\n",
      "64        projectionCentreFlag = 0 [00000000]\n",
      "65        scanningMode = 64 [01000000]\n",
      "66-69     Latin1 = 67360000\n",
      "70-73     Latin2 = 67360000\n",
      "74-77     latitudeOfSouthernPole = 0\n",
      "78-81     longitudeOfSouthernPole = 0\n",
      "82-85     Nux = 53\n",
      "86-89     Ncx = 8\n",
      "90-93     Nuy = 53\n",
      "94-97     Ncy = 8\n"
     ]
    }
   ],
   "source": [
    "$GRIB_DUMP -O lam_gp_lambert_lam.grib > lam_gp_lambert_lam.grib.grib_api.txt 2>/dev/null\n",
    "cat lam_gp_lambert_lam.grib.grib_api.txt |awk '/SECTION_3/{f=1}/SECTION_4/{f=0}f'"
   ]
  },
  {
   "cell_type": "code",
   "execution_count": 7,
   "metadata": {},
   "outputs": [
    {
     "name": "stdout",
     "output_type": "stream",
     "text": [
      "1:0:grid_template=33:\n",
      "\tLambert Conformal with LAM extension (U=[53,53],C=[8,8]): (64 x 64) input (null) output WE:SN res -1\n",
      "\tLat1 66.768495 Lon1 25.158021 LoV 26.640000\n",
      "\tLatD 67.360000 Latin1 67.360000 Latin2 67.360000\n",
      "\tLatSP 0.000000 LonSP 0.000000\n",
      "\tNorth Pole (64 x 64) Dx 2500.000000 m Dy 2500.000000 m mode -1\n",
      "\tstagger 15 offset(even_x:dx/2 odd_x:dx/2 y:dy/2) storage trim\n"
     ]
    }
   ],
   "source": [
    "$WGRIB2 -grid lam_gp_lambert_lam.grib"
   ]
  },
  {
   "cell_type": "markdown",
   "metadata": {},
   "source": [
    "#### Mercator"
   ]
  },
  {
   "cell_type": "code",
   "execution_count": 8,
   "metadata": {},
   "outputs": [
    {
     "name": "stdout",
     "output_type": "stream",
     "text": [
      "======================   SECTION_3 ( length=88, padding=0 )    ======================\n",
      "1-4       section3Length = 88\n",
      "5         numberOfSection = 3\n",
      "6         sourceOfGridDefinition = 0 [Specified in Code table 3.1 (grib2/tables/4/3.0.table) ]\n",
      "7-10      numberOfDataPoints = 4096\n",
      "11        numberOfOctectsForNumberOfPoints = 0\n",
      "12        interpretationOfNumberOfPoints = 0 [There is no appended list (grib2/tables/4/3.11.table) ]\n",
      "13-14     gridDefinitionTemplateNumber = 13 [Unknown code table entry (grib2/tables/4/3.1.table) ]\n",
      "15        shapeOfTheEarth = 6 [Earth assumed spherical with radius of 6,371,229.0 m (grib2/tables/4/3.2.table) ]\n",
      "16        scaleFactorOfRadiusOfSphericalEarth = MISSING\n",
      "17-20     scaledValueOfRadiusOfSphericalEarth = MISSING\n",
      "21        scaleFactorOfEarthMajorAxis = MISSING\n",
      "22-25     scaledValueOfEarthMajorAxis = MISSING\n",
      "26        scaleFactorOfEarthMinorAxis = MISSING\n",
      "27-30     scaledValueOfEarthMinorAxis = MISSING\n",
      "31-34     Ni = 64\n",
      "35-38     Nj = 64\n",
      "39-42     latitudeOfFirstGridPoint = 67937201\n",
      "43-46     longitudeOfFirstGridPoint = 25158021\n",
      "47        resolutionAndComponentFlags = 8 [00001000]\n",
      "48-51     LaD = 0\n",
      "52-55     latitudeOfLastGridPoint = 72937201\n",
      "56-59     longitudeOfLastGridPoint = 29158021\n",
      "60        scanningMode = 64 [01000000]\n",
      "61-64     orientationOfTheGrid = 0\n",
      "65-68     Di = 0\n",
      "69-72     Dj = 0\n",
      "73-76     Nux = 53\n",
      "77-80     Ncx = 8\n",
      "81-84     Nuy = 53\n",
      "85-88     Ncy = 8\n"
     ]
    }
   ],
   "source": [
    "$GRIB_DUMP -O lam_gp_mercator_lam.grib > lam_gp_mercator_lam.grib.grib_api.txt 2>/dev/null\n",
    "cat lam_gp_mercator_lam.grib.grib_api.txt |awk '/SECTION_3/{f=1}/SECTION_4/{f=0}f'"
   ]
  },
  {
   "cell_type": "code",
   "execution_count": 9,
   "metadata": {},
   "outputs": [
    {
     "name": "stdout",
     "output_type": "stream",
     "text": [
      "1:0:grid_template=13:\n",
      "\tMercator grid with LAM extension (U=[53,53],C=[8,8]): (64 x 64) LatD 0.000000 input (null) output WE:SN res -1\n",
      "\tlat 67.937201 to 72.937201 by 0.000000 m\n",
      "\tlon 25.158021 to 29.158021 by 0.000000 m\n",
      "\torientation 0.000000\n",
      "\tstagger 15 offset(even_x:dx/2 odd_x:dx/2 y:dy/2) storage trim\n"
     ]
    }
   ],
   "source": [
    "$WGRIB2 -grid lam_gp_mercator_lam.grib"
   ]
  },
  {
   "cell_type": "markdown",
   "metadata": {},
   "source": [
    "#### Polar stereographic"
   ]
  },
  {
   "cell_type": "code",
   "execution_count": 10,
   "metadata": {},
   "outputs": [
    {
     "name": "stdout",
     "output_type": "stream",
     "text": [
      "======================   SECTION_3 ( length=81, padding=0 )    ======================\n",
      "1-4       section3Length = 81\n",
      "5         numberOfSection = 3\n",
      "6         sourceOfGridDefinition = 0 [Specified in Code table 3.1 (grib2/tables/4/3.0.table) ]\n",
      "7-10      numberOfDataPoints = 4096\n",
      "11        numberOfOctectsForNumberOfPoints = 0\n",
      "12        interpretationOfNumberOfPoints = 0 [There is no appended list (grib2/tables/4/3.11.table) ]\n",
      "13-14     gridDefinitionTemplateNumber = 23 [Unknown code table entry (grib2/tables/4/3.1.table) ]\n",
      "15        shapeOfTheEarth = 6 [Earth assumed spherical with radius of 6,371,229.0 m (grib2/tables/4/3.2.table) ]\n",
      "16        scaleFactorOfRadiusOfSphericalEarth = MISSING\n",
      "17-20     scaledValueOfRadiusOfSphericalEarth = MISSING\n",
      "21        scaleFactorOfEarthMajorAxis = MISSING\n",
      "22-25     scaledValueOfEarthMajorAxis = MISSING\n",
      "26        scaleFactorOfEarthMinorAxis = MISSING\n",
      "27-30     scaledValueOfEarthMinorAxis = MISSING\n",
      "31-34     Nx = 64\n",
      "35-38     Ny = 64\n",
      "39-42     latitudeOfFirstGridPoint = 67937201\n",
      "43-46     longitudeOfFirstGridPoint = 25158021\n",
      "47        resolutionAndComponentFlags = 0 [00000000]\n",
      "48-51     LaD = 0\n",
      "52-55     orientationOfTheGrid = 0\n",
      "56-59     Dx = 2500000\n",
      "60-63     Dy = 2500000\n",
      "64        projectionCentreFlag = 0 [00000000]\n",
      "65        scanningMode = 64 [01000000]\n",
      "66-69     Nux = 53\n",
      "70-73     Ncx = 8\n",
      "74-77     Nuy = 53\n",
      "78-81     Ncy = 8\n"
     ]
    }
   ],
   "source": [
    "$GRIB_DUMP -O lam_gp_polar_stereographic_lam.grib > lam_gp_polar_stereographic_lam.grib.grib_api.txt 2>/dev/null\n",
    "cat lam_gp_polar_stereographic_lam.grib.grib_api.txt |awk '/SECTION_3/{f=1}/SECTION_4/{f=0}f'"
   ]
  },
  {
   "cell_type": "code",
   "execution_count": 11,
   "metadata": {},
   "outputs": [
    {
     "name": "stdout",
     "output_type": "stream",
     "text": [
      "1:0:grid_template=23:\n",
      "\tpolar stereographic grid with LAM extension (U=[53,53],C=[8,8]): (64 x 64) input (null) output WE:SN res -1\n",
      "\tSouth pole lat1 67.937201 lon1 25.158021 latD 0.000000 lonV 0.000000 dx 2500.000000 m dy 2500.000000 m\n"
     ]
    }
   ],
   "source": [
    "$WGRIB2 -grid lam_gp_polar_stereographic_lam.grib"
   ]
  },
  {
   "cell_type": "markdown",
   "metadata": {},
   "source": [
    "## Spectral data\n",
    "\n",
    "compilation of program using Eccodes"
   ]
  },
  {
   "cell_type": "code",
   "execution_count": 12,
   "metadata": {},
   "outputs": [
    {
     "name": "stdout",
     "output_type": "stream",
     "text": [
      "#include <stdlib.h>\n",
      "#include <math.h>\n",
      "#include <stdio.h>\n",
      "#include <string.h>\n",
      "\n",
      "#include \"grib_api.h\"\n",
      "\n",
      "/*\n",
      " * Test encoding of LAM spectral fields\n",
      " * v1.0 philippe.marguinaud 02/2016\n",
      " * v1.01 yann.genin 11/2018\n",
      " */\n",
      "\n",
      "\n",
      "#define ILCHAM 3128 \n",
      "#define NSTRON   10\n",
      "#define NSMAX    31\n",
      "#define NMSMAX   31\n",
      "\n",
      "int main (int argc, char * argv[])\n",
      "{\n",
      "  grib_handle * h;\n",
      "  size_t len;\n",
      "  const char * grids[] = {\"lambert_bf\", \"mercator_bf\", \"polar_stereographic_bf\"};\n",
      "  int igrid;\n",
      "  const char * f_text = argv[1];\n",
      "  double * values = NULL;\n",
      "  FILE * fp;\n",
      "  size_t dum;\n",
      "  int i;\n",
      "\n",
      "  \n",
      "  fp = fopen (f_text, \"r\");\n",
      "  fscanf (fp, \"%d %d\\n\", &len, &dum);\n",
      "  values = (double *)malloc (sizeof (double) * len);\n",
      "  for (i = 0; i < len; i++)\n",
      "    fscanf (fp, \"%lf\\n\", &values[i]);\n",
      "  fclose (fp);\n",
      "\n",
      "  for (igrid = 0; igrid < 3; igrid++)\n",
      "    {\n",
      "      GRIB_CHECK (((h = grib_handle_new_from_samples (NULL, \"lambert_bf_grib2\")) == NULL), 0);\n",
      "      GRIB_CHECK (grib_set_long (h, \"centre\", 85), 0);\n",
      "      len = strlen (grids[igrid]);\n",
      "      GRIB_CHECK (grib_set_string (h, \"gridType\", grids[igrid], &len), 0);\n",
      "      GRIB_CHECK (grib_set_long (h, \"biFourierResolutionParameterN\", NSMAX), 0);\n",
      "      GRIB_CHECK (grib_set_long (h, \"biFourierResolutionParameterM\", NMSMAX), 0);\n",
      "      GRIB_CHECK (grib_set_long (h, \"biFourierTruncationType\", 99) , 0);\n",
      "\n",
      "\n",
      "      GRIB_CHECK (grib_set_long (h, \"LxInMetres\", 2000), 0);\n",
      "      GRIB_CHECK (grib_set_long (h, \"LyInMetres\", 2000), 0);\n",
      "\n",
      "      GRIB_CHECK (grib_set_long (h, \"LuxInMetres\", 1800), 0);\n",
      "      GRIB_CHECK (grib_set_long (h, \"LuyInMetres\", 1800), 0);\n",
      "\n",
      "      GRIB_CHECK (grib_set_long (h, \"LcxInMetres\", 100), 0);\n",
      "      GRIB_CHECK (grib_set_long (h, \"LcyInMetres\", 100), 0);\n",
      "\n",
      "      if (igrid == 0)\n",
      "        {\n",
      "          GRIB_CHECK (grib_set_double (h, \"latitudeOfFirstGridPointInDegrees\", 67.9372009520603), 0);\n",
      "          GRIB_CHECK (grib_set_double (h, \"longitudeOfFirstGridPointInDegrees\", 25.1580207144963), 0);\n",
      "          GRIB_CHECK (grib_set_long (h, \"latitudeOfSouthernPoleInDegrees\", 0), 0);\n",
      "          GRIB_CHECK (grib_set_long (h, \"longitudeOfSouthernPoleInDegrees\", 0), 0);\n",
      "          GRIB_CHECK (grib_set_double (h, \"LoVInDegrees\", 26.6400000000000), 0);\n",
      "          GRIB_CHECK (grib_set_double (h, \"Latin1InDegrees\", 67.3600000000000), 0);\n",
      "          GRIB_CHECK (grib_set_double (h, \"Latin2InDegrees\", 67.3600000000000), 0);\n",
      "          GRIB_CHECK (grib_set_long (h, \"projectionCentreFlag\", 0), 0);\n",
      "          GRIB_CHECK (grib_set_long (h, \"bitsPerValue\", 16) , 0);\n",
      "        }\n",
      "      else if (igrid == 1)\n",
      "        {\n",
      "          GRIB_CHECK (grib_set_double (h, \"latitudeOfFirstGridPointInDegrees\", 67.9372009520603), 0);\n",
      "          GRIB_CHECK (grib_set_double (h, \"longitudeOfFirstGridPointInDegrees\", 25.1580207144963), 0);\n",
      "          GRIB_CHECK (grib_set_double (h, \"LaDInDegrees\", 0.), 0);\n",
      "          GRIB_CHECK (grib_set_double (h, \"latitudeOfLastGridPointInDegrees\", 72.9372009520603), 0);\n",
      "          GRIB_CHECK (grib_set_double (h, \"longitudeOfLastGridPointInDegrees\", 29.1580207144963), 0);\n",
      "          GRIB_CHECK (grib_set_double (h, \"orientationOfTheGridInDegrees\", 0.), 0);\n",
      "        }\n",
      "      else if (igrid == 2)\n",
      "        {\n",
      "\n",
      "          GRIB_CHECK (grib_set_double (h, \"latitudeOfFirstGridPointInDegrees\", 67.9372009520603), 0);\n",
      "          GRIB_CHECK (grib_set_double (h, \"longitudeOfFirstGridPointInDegrees\", 25.1580207144963), 0);\n",
      "          GRIB_CHECK (grib_set_double (h, \"LaDInDegrees\", 0.), 0);\n",
      "          GRIB_CHECK (grib_set_double (h, \"orientationOfTheGridInDegrees\", 0.), 0);\n",
      "        }\n",
      "     \n",
      "      len = strlen (\"bifourier_complex\");\n",
      "      GRIB_CHECK (grib_set_string (h, \"packingType\", \"bifourier_complex\", &len), 0);\n",
      "      GRIB_CHECK (grib_set_long (h, \"biFourierResolutionSubSetParameterN\", NSTRON), 0);\n",
      "      GRIB_CHECK (grib_set_long (h, \"biFourierResolutionSubSetParameterM\", NSTRON), 0);\n",
      "      GRIB_CHECK (grib_set_long (h, \"biFourierSubTruncationType\", 77) , 0);\n",
      "      GRIB_CHECK (grib_set_long (h, \"biFourierDoNotPackAxes\", 1), 0);\n",
      "      GRIB_CHECK (grib_set_long (h, \"unpackedSubsetPrecision\", 2), 0);\n",
      "\n",
      "      len = ILCHAM;\n",
      "      GRIB_CHECK (grib_set_double_array (h, \"values\", values, len), 0);\n",
      "     \n",
      "      if (1)\n",
      "        {\n",
      "          char f[128];\n",
      "          FILE * fp;\n",
      "          size_t size;\n",
      "          void * buffer;\n",
      "\t  sprintf (f, \"lam_bf_%s.grib\", grids[igrid]);\n",
      "          fp = fopen (f, \"w\");\n",
      "          GRIB_CHECK (grib_get_message (h, (const void**)&buffer, &size), 0);\n",
      "          fwrite (buffer, 1, size, fp);\n",
      "          fclose (fp);\n",
      "        }\n",
      "     \n",
      "      GRIB_CHECK (grib_handle_delete (h), 0);\n",
      "    }\n",
      "\n",
      "  return 0;\n",
      "}\n"
     ]
    }
   ],
   "source": [
    "cat lam_bf.c"
   ]
  },
  {
   "cell_type": "code",
   "execution_count": 13,
   "metadata": {
    "collapsed": true
   },
   "outputs": [],
   "source": [
    "cc -g -o lam_bf.x lam_bf.c -I$GRIB_API_PREFIX/include -L$GRIB_API_PREFIX/lib -leccodes -Wl,-rpath,$GRIB_API_PREFIX/lib\n"
   ]
  },
  {
   "cell_type": "markdown",
   "metadata": {},
   "source": [
    "### Spectral data: metadata encoding using Eccodes\n",
    "Wgrib2 encoding of metadata was not implemented.\n"
   ]
  },
  {
   "cell_type": "code",
   "execution_count": 14,
   "metadata": {},
   "outputs": [],
   "source": [
    "cp lam_bf.data.gz lam_bf.txt.gz\n",
    "gunzip lam_bf.txt.gz\n",
    "./lam_bf.x lam_bf.txt"
   ]
  },
  {
   "cell_type": "markdown",
   "metadata": {},
   "source": [
    "### Spectral data: metadata decoding\n",
    "#### lambert "
   ]
  },
  {
   "cell_type": "code",
   "execution_count": 15,
   "metadata": {},
   "outputs": [
    {
     "name": "stdout",
     "output_type": "stream",
     "text": [
      "======================   SECTION_3 ( length=121, padding=0 )   ======================\n",
      "1-4       section3Length = 121\n",
      "5         numberOfSection = 3\n",
      "6         sourceOfGridDefinition = 0 [Specified in Code table 3.1 (grib2/tables/4/3.0.table) ]\n",
      "7-10      numberOfDataPoints = 3128\n",
      "11        numberOfOctectsForNumberOfPoints = 0\n",
      "12        interpretationOfNumberOfPoints = 0 [There is no appended list (grib2/tables/4/3.11.table) ]\n",
      "13-14     gridDefinitionTemplateNumber = 63 [Unknown code table entry (grib2/tables/4/3.1.table) ]\n",
      "15        spectralType = 99 [Unknown code table entry (grib2/tables/4/3.6.table) ]\n",
      "16-19     biFourierResolutionParameterN = 31\n",
      "20-23     biFourierResolutionParameterM = 31\n",
      "24        biFourierTruncationType = 99 [Unknown code table entry () ]\n",
      "25-32     Lx = 2000000\n",
      "33-40     Lux = 1800000\n",
      "41-48     Lcx = 100000\n",
      "49-56     Ly = 2000000\n",
      "57-64     Luy = 1800000\n",
      "65-72     Lcy = 100000\n",
      "73        shapeOfTheEarth = 6 [Earth assumed spherical with radius of 6,371,229.0 m (grib2/tables/4/3.2.table) ]\n",
      "74        scaleFactorOfRadiusOfSphericalEarth = MISSING\n",
      "75-78     scaledValueOfRadiusOfSphericalEarth = MISSING\n",
      "79        scaleFactorOfEarthMajorAxis = MISSING\n",
      "80-83     scaledValueOfEarthMajorAxis = MISSING\n",
      "84        scaleFactorOfEarthMinorAxis = MISSING\n",
      "85-88     scaledValueOfEarthMinorAxis = MISSING\n",
      "89-92     latitudeOfFirstGridPoint = 67937201\n",
      "93-96     longitudeOfFirstGridPoint = 25158021\n",
      "97-100    LaD = 0\n",
      "101-104   LoV = 26640000\n",
      "105       projectionCentreFlag = 0 [00000000]\n",
      "106-109   Latin1 = 67360000\n",
      "110-113   Latin2 = 67360000\n",
      "114-117   latitudeOfSouthernPole = 0\n",
      "118-121   longitudeOfSouthernPole = 0\n"
     ]
    }
   ],
   "source": [
    "$GRIB_DUMP -O lam_bf_lambert_bf.grib > lam_bf_lambert_bf.grib.grib_api.txt 2>/dev/null\n",
    "cat lam_bf_lambert_bf.grib.grib_api.txt  |awk '/SECTION_3/{f=1}/SECTION_4/{f=0}f'"
   ]
  },
  {
   "cell_type": "code",
   "execution_count": 16,
   "metadata": {},
   "outputs": [
    {
     "name": "stdout",
     "output_type": "stream",
     "text": [
      "1:0:grid_template=63:Spectral Lambert 0 N=31 M=31, code_table_3.6=99 code_table_3.25=99\n",
      "\tSubdomains definition lx=2000000 lux=1800000 lcx=100000 ly=2000000 luy=1800000 lcy=100000\n",
      "\tSouth Pole latin1 67360000 latin2 67360000 latSP 0 lonSP 0\n"
     ]
    }
   ],
   "source": [
    "$WGRIB2 -grid lam_bf_lambert_bf.grib"
   ]
  },
  {
   "cell_type": "markdown",
   "metadata": {},
   "source": [
    "#### Mercator"
   ]
  },
  {
   "cell_type": "code",
   "execution_count": 17,
   "metadata": {},
   "outputs": [
    {
     "name": "stdout",
     "output_type": "stream",
     "text": [
      "======================   SECTION_3 ( length=112, padding=0 )   ======================\n",
      "1-4       section3Length = 112\n",
      "5         numberOfSection = 3\n",
      "6         sourceOfGridDefinition = 0 [Specified in Code table 3.1 (grib2/tables/4/3.0.table) ]\n",
      "7-10      numberOfDataPoints = 3128\n",
      "11        numberOfOctectsForNumberOfPoints = 0\n",
      "12        interpretationOfNumberOfPoints = 0 [There is no appended list (grib2/tables/4/3.11.table) ]\n",
      "13-14     gridDefinitionTemplateNumber = 61 [Unknown code table entry (grib2/tables/4/3.1.table) ]\n",
      "15        spectralType = 99 [Unknown code table entry (grib2/tables/4/3.6.table) ]\n",
      "16-19     biFourierResolutionParameterN = 31\n",
      "20-23     biFourierResolutionParameterM = 31\n",
      "24        biFourierTruncationType = 99 [Unknown code table entry () ]\n",
      "25-32     Lx = 2000000\n",
      "33-40     Lux = 1800000\n",
      "41-48     Lcx = 100000\n",
      "49-56     Ly = 2000000\n",
      "57-64     Luy = 1800000\n",
      "65-72     Lcy = 100000\n",
      "73        shapeOfTheEarth = 6 [Earth assumed spherical with radius of 6,371,229.0 m (grib2/tables/4/3.2.table) ]\n",
      "74        scaleFactorOfRadiusOfSphericalEarth = MISSING\n",
      "75-78     scaledValueOfRadiusOfSphericalEarth = MISSING\n",
      "79        scaleFactorOfEarthMajorAxis = MISSING\n",
      "80-83     scaledValueOfEarthMajorAxis = MISSING\n",
      "84        scaleFactorOfEarthMinorAxis = MISSING\n",
      "85-88     scaledValueOfEarthMinorAxis = MISSING\n",
      "89-92     latitudeOfFirstGridPoint = 67937201\n",
      "93-96     longitudeOfFirstGridPoint = 25158021\n",
      "97-100    LaD = 0\n",
      "101-104   latitudeOfLastGridPoint = 72937201\n",
      "105-108   longitudeOfLastGridPoint = 29158021\n",
      "109-112   orientationOfTheGrid = 0\n"
     ]
    }
   ],
   "source": [
    "$GRIB_DUMP -O lam_bf_mercator_bf.grib > lam_bf_mercator_bf.grib.grib_api.txt 2>/dev/null\n",
    "cat lam_bf_mercator_bf.grib.grib_api.txt |awk '/SECTION_3/{f=1}/SECTION_4/{f=0}f'"
   ]
  },
  {
   "cell_type": "code",
   "execution_count": 18,
   "metadata": {},
   "outputs": [
    {
     "name": "stdout",
     "output_type": "stream",
     "text": [
      "1:0:grid_template=61:Spectral Mercator LaD 0 N=31 M=31, code_table_3.6=99 code_table_3.25=99\n",
      "\tSubdomains definition lx=2000000 lux=1800000 lcx=100000 ly=2000000 luy=1800000 lcy=100000\n",
      "\tlat 67937201 to 72937201 \n",
      "\tlon 25158021 to 29158021 \n",
      "\torientation 0.000000\n"
     ]
    }
   ],
   "source": [
    "$WGRIB2 -grid lam_bf_mercator_bf.grib"
   ]
  },
  {
   "cell_type": "markdown",
   "metadata": {},
   "source": [
    "#### Polar stereographic"
   ]
  },
  {
   "cell_type": "code",
   "execution_count": 19,
   "metadata": {},
   "outputs": [
    {
     "name": "stdout",
     "output_type": "stream",
     "text": [
      "======================   SECTION_3 ( length=106, padding=0 )   ======================\n",
      "1-4       section3Length = 106\n",
      "5         numberOfSection = 3\n",
      "6         sourceOfGridDefinition = 0 [Specified in Code table 3.1 (grib2/tables/4/3.0.table) ]\n",
      "7-10      numberOfDataPoints = 3128\n",
      "11        numberOfOctectsForNumberOfPoints = 0\n",
      "12        interpretationOfNumberOfPoints = 0 [There is no appended list (grib2/tables/4/3.11.table) ]\n",
      "13-14     gridDefinitionTemplateNumber = 62 [Unknown code table entry (grib2/tables/4/3.1.table) ]\n",
      "15        spectralType = 99 [Unknown code table entry (grib2/tables/4/3.6.table) ]\n",
      "16-19     biFourierResolutionParameterN = 31\n",
      "20-23     biFourierResolutionParameterM = 31\n",
      "24        biFourierTruncationType = 99 [Unknown code table entry () ]\n",
      "25-32     Lx = 2000000\n",
      "33-40     Lux = 1800000\n",
      "41-48     Lcx = 100000\n",
      "49-56     Ly = 2000000\n",
      "57-64     Luy = 1800000\n",
      "65-72     Lcy = 100000\n",
      "73        shapeOfTheEarth = 6 [Earth assumed spherical with radius of 6,371,229.0 m (grib2/tables/4/3.2.table) ]\n",
      "74        scaleFactorOfRadiusOfSphericalEarth = MISSING\n",
      "75-78     scaledValueOfRadiusOfSphericalEarth = MISSING\n",
      "79        scaleFactorOfEarthMajorAxis = MISSING\n",
      "80-83     scaledValueOfEarthMajorAxis = MISSING\n",
      "84        scaleFactorOfEarthMinorAxis = MISSING\n",
      "85-88     scaledValueOfEarthMinorAxis = MISSING\n",
      "89-92     latitudeOfFirstGridPoint = 67937201\n",
      "93-96     longitudeOfFirstGridPoint = 25158021\n",
      "97        resolutionAndComponentFlags = 0 [00000000]\n",
      "98-101    LaD = 0\n",
      "102-105   orientationOfTheGrid = 0\n",
      "106       projectionCentreFlag = 0 [00000000]\n"
     ]
    }
   ],
   "source": [
    "$GRIB_DUMP -O lam_bf_polar_stereographic_bf.grib > lam_bf_polar_stereographic_bf.grib.grib_api.txt 2>/dev/null\n",
    "cat lam_bf_polar_stereographic_bf.grib.grib_api.txt |awk '/SECTION_3/{f=1}/SECTION_4/{f=0}f'"
   ]
  },
  {
   "cell_type": "code",
   "execution_count": 20,
   "metadata": {},
   "outputs": [
    {
     "name": "stdout",
     "output_type": "stream",
     "text": [
      "1:0:grid_template=62:Spectral Polar Stereographic 0 N=31 M=31, code_table_3.6=99 code_table_3.25=99\n",
      "\tSubdomains definition lx=2000000 lux=1800000 lcx=100000 ly=2000000 luy=1800000 lcy=100000\n",
      "\tpole 0 lat1 67937201 lon1 25158021 latD 0 lonV 0\n"
     ]
    }
   ],
   "source": [
    "$WGRIB2 -grid lam_bf_polar_stereographic_bf.grib"
   ]
  },
  {
   "cell_type": "markdown",
   "metadata": {},
   "source": [
    "## cleanup"
   ]
  },
  {
   "cell_type": "code",
   "execution_count": 21,
   "metadata": {
    "collapsed": true
   },
   "outputs": [],
   "source": [
    "rm -f *.grib *.txt lam_*.x"
   ]
  },
  {
   "cell_type": "code",
   "execution_count": null,
   "metadata": {
    "collapsed": true
   },
   "outputs": [],
   "source": []
  }
 ],
 "metadata": {
  "kernelspec": {
   "display_name": "Bash",
   "language": "bash",
   "name": "bash"
  },
  "language_info": {
   "codemirror_mode": "shell",
   "file_extension": ".sh",
   "mimetype": "text/x-sh",
   "name": "bash"
  }
 },
 "nbformat": 4,
 "nbformat_minor": 2
}
